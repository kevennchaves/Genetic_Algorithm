{
 "cells": [
  {
   "cell_type": "markdown",
   "metadata": {},
   "source": [
    "# Algoritmos de Inteligência Artificial Bioinspirados - Algoritmos genéticos"
   ]
  },
  {
   "cell_type": "markdown",
   "metadata": {},
   "source": [
    "# Representação do problema - calendários de voos"
   ]
  },
  {
   "cell_type": "code",
   "execution_count": 217,
   "metadata": {},
   "outputs": [],
   "source": [
    "# Libraries\n",
    "import time\n",
    "import sys\n",
    "import random\n",
    "import matplotlib.pyplot as plt"
   ]
  },
  {
   "cell_type": "markdown",
   "metadata": {},
   "source": [
    "#### Define name and abreviattion from countries"
   ]
  },
  {
   "cell_type": "code",
   "execution_count": 218,
   "metadata": {},
   "outputs": [],
   "source": [
    "pessoas = [('Lisbon', 'LIS'),\n",
    "           ('Madrid', 'MAD'),\n",
    "           ('Paris', 'CDG'),\n",
    "           ('Dublin', 'DUB'),\n",
    "           ('Brussels', 'BRU'),\n",
    "           ('London', 'LHR')]"
   ]
  },
  {
   "cell_type": "markdown",
   "metadata": {},
   "source": [
    "- Tests"
   ]
  },
  {
   "cell_type": "code",
   "execution_count": 219,
   "metadata": {},
   "outputs": [
    {
     "data": {
      "text/plain": [
       "('Dublin', 'DUB')"
      ]
     },
     "execution_count": 219,
     "metadata": {},
     "output_type": "execute_result"
    }
   ],
   "source": [
    "pessoas[3] #tuplas"
   ]
  },
  {
   "cell_type": "markdown",
   "metadata": {},
   "source": [
    "- Our destiny is find the best way, with smaller cost and time"
   ]
  },
  {
   "cell_type": "code",
   "execution_count": 220,
   "metadata": {},
   "outputs": [],
   "source": [
    "destino = 'FCO' # Roma is destiny"
   ]
  },
  {
   "cell_type": "code",
   "execution_count": 221,
   "metadata": {},
   "outputs": [
    {
     "data": {
      "text/plain": [
       "{('BRU', 'FCO'): ['15:44', '18:55', 382]}"
      ]
     },
     "execution_count": 221,
     "metadata": {},
     "output_type": "execute_result"
    }
   ],
   "source": [
    "voos = {('BRU', 'FCO'): ['15:44', '18:55', 382]} #tests\n",
    "voos"
   ]
  },
  {
   "cell_type": "markdown",
   "metadata": {},
   "source": [
    "- Recovery in archive (flights.txt) data from flights"
   ]
  },
  {
   "cell_type": "code",
   "execution_count": 222,
   "metadata": {},
   "outputs": [],
   "source": [
    "voos = {}\n",
    "for linha in open('flights.txt'): #open archive\n",
    "    #print(linha.split(','))\n",
    "    origem, destino, partida, chegada, preco = linha.split(',') # four variables\n",
    "    voos.setdefault((origem, destino), [])\n",
    "    voos[(origem, destino)].append((partida, chegada, int(preco)))"
   ]
  },
  {
   "cell_type": "code",
   "execution_count": 223,
   "metadata": {},
   "outputs": [
    {
     "data": {
      "text/plain": [
       "{('FCO', 'LIS'): [('6:19', '8:13', 239),\n",
       "  ('8:04', '10:59', 136),\n",
       "  ('9:31', '11:43', 210),\n",
       "  ('11:07', '13:24', 171),\n",
       "  ('12:31', '14:02', 234),\n",
       "  ('14:05', '15:47', 226),\n",
       "  ('15:07', '17:21', 129),\n",
       "  ('16:35', '18:56', 144),\n",
       "  ('18:25', '20:34', 205),\n",
       "  ('20:05', '21:44', 172)],\n",
       " ('LIS', 'FCO'): [('6:11', '8:31', 249),\n",
       "  ('7:39', '10:24', 219),\n",
       "  ('9:15', '12:03', 99),\n",
       "  ('11:08', '13:07', 175),\n",
       "  ('12:18', '14:56', 172),\n",
       "  ('13:37', '15:08', 250),\n",
       "  ('15:03', '16:42', 135),\n",
       "  ('16:51', '19:09', 147),\n",
       "  ('18:12', '20:17', 242),\n",
       "  ('20:05', '22:06', 261)],\n",
       " ('FCO', 'MAD'): [('6:03', '8:43', 219),\n",
       "  ('7:50', '10:08', 164),\n",
       "  ('9:11', '10:42', 172),\n",
       "  ('10:33', '13:11', 132),\n",
       "  ('12:08', '14:47', 231),\n",
       "  ('14:19', '17:09', 190),\n",
       "  ('15:04', '17:23', 189),\n",
       "  ('17:06', '20:00', 95),\n",
       "  ('18:33', '20:22', 143),\n",
       "  ('19:32', '21:25', 160)],\n",
       " ('MAD', 'FCO'): [('6:05', '8:32', 174),\n",
       "  ('8:25', '10:34', 157),\n",
       "  ('9:42', '11:32', 169),\n",
       "  ('11:01', '12:39', 260),\n",
       "  ('12:44', '14:17', 134),\n",
       "  ('14:22', '16:32', 126),\n",
       "  ('15:58', '18:40', 173),\n",
       "  ('16:43', '19:00', 246),\n",
       "  ('18:48', '21:45', 246),\n",
       "  ('19:50', '22:24', 269)],\n",
       " ('FCO', 'CDG'): [('6:33', '9:14', 172),\n",
       "  ('8:23', '11:07', 143),\n",
       "  ('9:25', '12:46', 295),\n",
       "  ('11:08', '14:38', 262),\n",
       "  ('12:37', '15:05', 170),\n",
       "  ('14:08', '16:09', 232),\n",
       "  ('15:23', '18:49', 150),\n",
       "  ('16:50', '19:26', 304),\n",
       "  ('18:07', '21:30', 355),\n",
       "  ('20:27', '23:42', 169)],\n",
       " ('CDG', 'FCO'): [('6:25', '9:30', 335),\n",
       "  ('7:34', '9:40', 324),\n",
       "  ('9:15', '12:29', 225),\n",
       "  ('11:28', '14:40', 248),\n",
       "  ('12:05', '15:30', 330),\n",
       "  ('14:01', '17:24', 338),\n",
       "  ('15:34', '18:11', 326),\n",
       "  ('17:07', '20:04', 291),\n",
       "  ('18:23', '21:35', 134),\n",
       "  ('19:53', '22:21', 173)],\n",
       " ('FCO', 'DUB'): [('6:39', '8:09', 86),\n",
       "  ('8:23', '10:28', 149),\n",
       "  ('9:58', '11:18', 130),\n",
       "  ('10:33', '12:03', 74),\n",
       "  ('12:08', '14:05', 142),\n",
       "  ('13:39', '15:30', 74),\n",
       "  ('15:25', '16:58', 62),\n",
       "  ('17:03', '18:03', 103),\n",
       "  ('18:24', '20:49', 124),\n",
       "  ('19:58', '21:23', 142)],\n",
       " ('DUB', 'FCO'): [('6:17', '8:26', 89),\n",
       "  ('8:04', '10:11', 95),\n",
       "  ('9:45', '11:50', 172),\n",
       "  ('11:16', '13:29', 83),\n",
       "  ('12:34', '15:02', 109),\n",
       "  ('13:40', '15:37', 138),\n",
       "  ('15:27', '17:18', 151),\n",
       "  ('17:11', '18:30', 108),\n",
       "  ('18:34', '19:36', 136),\n",
       "  ('20:17', '22:22', 102)],\n",
       " ('FCO', 'BRU'): [('6:09', '9:49', 414),\n",
       "  ('7:57', '11:15', 347),\n",
       "  ('9:49', '13:51', 229),\n",
       "  ('10:51', '14:16', 256),\n",
       "  ('12:20', '16:34', 500),\n",
       "  ('14:20', '17:32', 332),\n",
       "  ('15:49', '20:10', 497),\n",
       "  ('17:14', '20:59', 277),\n",
       "  ('18:44', '22:42', 351),\n",
       "  ('19:57', '23:15', 512)],\n",
       " ('BRU', 'FCO'): [('6:12', '10:22', 230),\n",
       "  ('7:53', '11:37', 433),\n",
       "  ('9:08', '12:12', 364),\n",
       "  ('10:30', '14:57', 290),\n",
       "  ('12:19', '15:25', 342),\n",
       "  ('13:54', '18:02', 294),\n",
       "  ('15:44', '18:55', 382),\n",
       "  ('16:52', '20:48', 448),\n",
       "  ('18:26', '21:29', 464),\n",
       "  ('20:07', '23:27', 473)],\n",
       " ('FCO', 'LHR'): [('6:58', '9:01', 238),\n",
       "  ('8:19', '11:16', 122),\n",
       "  ('9:58', '12:56', 249),\n",
       "  ('10:32', '13:16', 139),\n",
       "  ('12:01', '13:41', 267),\n",
       "  ('13:37', '15:33', 142),\n",
       "  ('15:50', '18:45', 243),\n",
       "  ('16:33', '18:15', 253),\n",
       "  ('18:17', '21:04', 259),\n",
       "  ('19:46', '21:45', 214)],\n",
       " ('LHR', 'FCO'): [('6:08', '8:06', 224),\n",
       "  ('8:27', '10:45', 139),\n",
       "  ('9:15', '12:14', 247),\n",
       "  ('10:53', '13:36', 189),\n",
       "  ('12:08', '14:59', 149),\n",
       "  ('13:40', '15:38', 137),\n",
       "  ('15:23', '17:25', 232),\n",
       "  ('17:08', '19:08', 262),\n",
       "  ('18:35', '20:28', 204),\n",
       "  ('20:30', '23:11', 114)]}"
      ]
     },
     "execution_count": 223,
     "metadata": {},
     "output_type": "execute_result"
    }
   ],
   "source": [
    "voos #visualize"
   ]
  },
  {
   "cell_type": "code",
   "execution_count": 224,
   "metadata": {},
   "outputs": [
    {
     "data": {
      "text/plain": [
       "[('6:19', '8:13', 239),\n",
       " ('8:04', '10:59', 136),\n",
       " ('9:31', '11:43', 210),\n",
       " ('11:07', '13:24', 171),\n",
       " ('12:31', '14:02', 234),\n",
       " ('14:05', '15:47', 226),\n",
       " ('15:07', '17:21', 129),\n",
       " ('16:35', '18:56', 144),\n",
       " ('18:25', '20:34', 205),\n",
       " ('20:05', '21:44', 172)]"
      ]
     },
     "execution_count": 224,
     "metadata": {},
     "output_type": "execute_result"
    }
   ],
   "source": [
    "voos[('FCO', 'LIS')] # tests with abreviattions"
   ]
  },
  {
   "cell_type": "code",
   "execution_count": 225,
   "metadata": {},
   "outputs": [],
   "source": [
    "#[1,4, 3,2, 7,3, 6,3, 2,4, 5,3]"
   ]
  },
  {
   "cell_type": "markdown",
   "metadata": {},
   "source": [
    "---------"
   ]
  },
  {
   "cell_type": "markdown",
   "metadata": {},
   "source": [
    "##### First funciton = show_calendar(), your hiperparams are: only calendar.\n",
    "- receive a list of numbers calling (calendar) and return a print of list of fligts with each hour and each country.\n",
    "- Examples: calendar = [1,4, 3,2, 7,3, 6,3, 2,4, 5,3]\n",
    "- index 0 = 1 i.e. flight 1 (going)\n",
    "- index 1 = 4 i.e. flight 2 (return)\n",
    "\n",
    "and like this in next"
   ]
  },
  {
   "cell_type": "code",
   "execution_count": 226,
   "metadata": {},
   "outputs": [],
   "source": [
    "# funct calendar\n",
    "def imprime_calendario(calendario):\n",
    "    voo_id = -1\n",
    "    preco_total = 0\n",
    "    \n",
    "    for i in range(len(calendario) // 2):\n",
    "        nome = pessoas[i][0]\n",
    "        #print(nome)\n",
    "        \n",
    "        origem = pessoas[i][1]\n",
    "        #print(origem)\n",
    "        \n",
    "        voo_id += 1\n",
    "        \n",
    "        voo_ida = voos[(origem, destino)][calendario[voo_id]]\n",
    "        #print(voo_ida)\n",
    "        \n",
    "        preco_total += voo_ida[2]\n",
    "        \n",
    "        voo_id += 1\n",
    "        \n",
    "        voo_volta = voos[(destino, origem)][calendario[voo_id]]\n",
    "        #print(voo_volta)\n",
    "        \n",
    "        preco_total += voo_volta[2]\n",
    "        \n",
    "        print('%10s%10s %5s-%5s U$%3s %5s-%5s U$%3s' % (nome, origem, voo_ida[0], voo_ida[1], voo_ida[2], \n",
    "                                                    voo_volta[0], voo_volta[1], voo_volta[2]))\n",
    "    print('Preço total: ', preco_total)"
   ]
  },
  {
   "cell_type": "markdown",
   "metadata": {},
   "source": [
    "##### Next function = get_minuts(), transform hour in minutes\n",
    "- Use time"
   ]
  },
  {
   "cell_type": "code",
   "execution_count": 227,
   "metadata": {},
   "outputs": [],
   "source": [
    "def get_minutos(hora):\n",
    "    t = time.strptime(hora, '%H:%M')\n",
    "    return t[3] * 60 + t[4]"
   ]
  },
  {
   "cell_type": "code",
   "execution_count": 228,
   "metadata": {},
   "outputs": [
    {
     "data": {
      "text/plain": [
       "(459, 470)"
      ]
     },
     "execution_count": 228,
     "metadata": {},
     "output_type": "execute_result"
    }
   ],
   "source": [
    "get_minutos('7:39'), get_minutos('7:50') #test"
   ]
  },
  {
   "cell_type": "markdown",
   "metadata": {},
   "source": [
    "##### Funcao_avaliacao() = fitness(), in this function inputs calendar and calculus of cost of price and cost of wait for each people\n",
    "- calendar = vector\n",
    "- return total_price plus total_wait"
   ]
  },
  {
   "cell_type": "code",
   "execution_count": 229,
   "metadata": {},
   "outputs": [],
   "source": [
    "def funcao_avaliacao(calendario):\n",
    "    preco_total = 0\n",
    "    ultima_chegada = 0 \n",
    "    primeira_partida = 1439\n",
    "    \n",
    "    voo_id = -1\n",
    "    \n",
    "    for i in range(len(calendario) // 2):\n",
    "        origem = pessoas[i][1]\n",
    "\n",
    "        voo_id += 1\n",
    "        voo_ida = voos[(origem, destino)][calendario[voo_id]]\n",
    "        voo_id +=1\n",
    "        voo_volta = voos[(destino, origem)][calendario[voo_id]]\n",
    "\n",
    "        preco_total += voo_ida[2]\n",
    "        preco_total += voo_volta[2]\n",
    "        \n",
    "        if ultima_chegada < get_minutos(voo_ida[1]):\n",
    "            ultima_chegada = get_minutos(voo_ida[1])\n",
    "        \n",
    "        if primeira_partida > get_minutos(voo_volta[0]):\n",
    "            primeira_partida = get_minutos(voo_volta[0])\n",
    "            \n",
    "    #print(ultima_chegada)\n",
    "    #print(primeira_partida)\n",
    "    #print(preco_total)\n",
    "    \n",
    "    espera_total = 0\n",
    "    voo_id =-1\n",
    "\n",
    "    for i in range(len(calendario) // 2):\n",
    "        origem = pessoas[i][1]\n",
    "        \n",
    "        voo_id += 1\n",
    "        voo_ida = voos[(origem, destino)][calendario[voo_id]]\n",
    "        \n",
    "        voo_id += 1\n",
    "        voo_volta = voos[(destino, origem)][calendario[voo_id]]\n",
    "        \n",
    "        espera_total += ultima_chegada - get_minutos(voo_ida[1])\n",
    "        espera_total += get_minutos(voo_volta[0]) - primeira_partida\n",
    "        \n",
    "    return espera_total + preco_total"
   ]
  },
  {
   "cell_type": "code",
   "execution_count": 230,
   "metadata": {},
   "outputs": [
    {
     "name": "stdout",
     "output_type": "stream",
     "text": [
      "    Lisbon       LIS  7:39-10:24 U$219 12:31-14:02 U$234\n",
      "    Madrid       MAD 11:01-12:39 U$260  9:11-10:42 U$172\n",
      "     Paris       CDG 17:07-20:04 U$291 11:08-14:38 U$262\n",
      "    Dublin       DUB 15:27-17:18 U$151 10:33-12:03 U$ 74\n",
      "  Brussels       BRU  9:08-12:12 U$364 12:20-16:34 U$500\n",
      "    London       LHR 13:40-15:38 U$137 10:32-13:16 U$139\n",
      "Preço total:  2803\n"
     ]
    }
   ],
   "source": [
    "# Tes with 1º function\n",
    "imprime_calendario([1,4, 3,2, 7,3, 6,3, 2,4, 5,3])"
   ]
  },
  {
   "cell_type": "code",
   "execution_count": 231,
   "metadata": {},
   "outputs": [
    {
     "data": {
      "text/plain": [
       "6096"
      ]
     },
     "execution_count": 231,
     "metadata": {},
     "output_type": "execute_result"
    }
   ],
   "source": [
    "# test fitness\n",
    "funcao_avaliacao([1,4, 3,1, 8,3, 6,3, 2,4, 5,3])"
   ]
  },
  {
   "cell_type": "code",
   "execution_count": 232,
   "metadata": {},
   "outputs": [
    {
     "data": {
      "text/plain": [
       "(1204, 551)"
      ]
     },
     "execution_count": 232,
     "metadata": {},
     "output_type": "execute_result"
    }
   ],
   "source": [
    "# test with function\n",
    "get_minutos('20:04'), get_minutos('9:11')"
   ]
  },
  {
   "cell_type": "code",
   "execution_count": 233,
   "metadata": {},
   "outputs": [
    {
     "data": {
      "text/plain": [
       "([(0, 9),\n",
       "  (0, 9),\n",
       "  (0, 9),\n",
       "  (0, 9),\n",
       "  (0, 9),\n",
       "  (0, 9),\n",
       "  (0, 9),\n",
       "  (0, 9),\n",
       "  (0, 9),\n",
       "  (0, 9),\n",
       "  (0, 9),\n",
       "  (0, 9)],\n",
       " 12)"
      ]
     },
     "execution_count": 233,
     "metadata": {},
     "output_type": "execute_result"
    }
   ],
   "source": [
    "# domin is a base for our calculus, for each flights\n",
    "dominio = [(0, 9)] * (len(pessoas) * 2)\n",
    "dominio, len(dominio)"
   ]
  },
  {
   "cell_type": "markdown",
   "metadata": {},
   "source": [
    "##### A famous function from genetic algorithm mutation\n",
    "- receive domin, passo = size of mutation, calendario = calendar, probabilidade_mutacao = proba_mutation\n",
    "- in this function, lets receive calendar and tranform in mutate if condition for true.\n",
    "- For this condiction, we have, random.random(), that to calculate a random number between 0, 1, type float\n",
    "- If this condiction is true, calender receive a mutation, with value of passo"
   ]
  },
  {
   "cell_type": "code",
   "execution_count": 234,
   "metadata": {},
   "outputs": [],
   "source": [
    "def mutacao(dominio, passo, calendario, probabilidade_mutacao):\n",
    "    gene = random.randint(0, len(dominio) - 1)\n",
    "    #print(gene)\n",
    "    mutante = calendario\n",
    "    if random.random() < probabilidade_mutacao: #prob\n",
    "        if calendario[gene] != dominio[gene][0]:\n",
    "            mutante = calendario[0:gene] + [calendario[gene] - passo] + calendario[gene + 1:]\n",
    "            #print(mutante)\n",
    "        else:\n",
    "            if calendario[gene] != dominio[gene][1]:\n",
    "                mutante = calendario[0:gene] + [calendario[gene] + passo] + calendario[gene + 1:]\n",
    "    return mutante"
   ]
  },
  {
   "cell_type": "code",
   "execution_count": 235,
   "metadata": {},
   "outputs": [
    {
     "data": {
      "text/plain": [
       "[1, 4, 3, 2, 7, 3, 6, 3, 2, 4, 4, 3]"
      ]
     },
     "execution_count": 235,
     "metadata": {},
     "output_type": "execute_result"
    }
   ],
   "source": [
    "#Test\n",
    "mutacao(dominio, 1, [1,4, 3,2, 7,3, 6,3, 2,4, 5,3], 0.05)"
   ]
  },
  {
   "cell_type": "markdown",
   "metadata": {},
   "source": [
    "##### Crossover function from GA\n",
    "- receive a two individues and domin\n",
    "- return one individuo mutate"
   ]
  },
  {
   "cell_type": "code",
   "execution_count": 236,
   "metadata": {},
   "outputs": [],
   "source": [
    "def crossover(dominio, individuo1, individuo2):\n",
    "    gene = random.randint(1, len(dominio) - 2)\n",
    "    #print(gene)\n",
    "    return individuo1[0:gene] + individuo2[gene:]"
   ]
  },
  {
   "cell_type": "code",
   "execution_count": 237,
   "metadata": {},
   "outputs": [
    {
     "data": {
      "text/plain": [
       "[1, 4, 3, 2, 7, 3, 6, 3, 5, 1, 0, 6]"
      ]
     },
     "execution_count": 237,
     "metadata": {},
     "output_type": "execute_result"
    }
   ],
   "source": [
    "#test with function\n",
    "s1 = [1,4, 3,2, 7,3, 6,3, 2,4, 5,3]\n",
    "s2 = [0,1, 2,5, 8,9, 2,3, 5,1, 0,6]\n",
    "crossover(dominio, s1, s2)"
   ]
  },
  {
   "cell_type": "markdown",
   "metadata": {},
   "source": [
    "- Start function, the principal function"
   ]
  },
  {
   "cell_type": "code",
   "execution_count": 238,
   "metadata": {},
   "outputs": [],
   "source": [
    "def algoritmo_genetico(dominio, funcao_avaliacao, tamanho_populacao = 100, passo = 1,\n",
    "                       elitismo = 0.2, numero_geracoes = 500, probabilidade_mutacao = 0.05):\n",
    "    populacao = [] #initialize population\n",
    "    evolucao = [] # initialize evolution of cost\n",
    "    \n",
    "    for i in range(tamanho_populacao): # call random_population function for each tam_pop\n",
    "        individuo = [random.randint(dominio[i][0], dominio[i][1]) for i in range(len(dominio))]\n",
    "        populacao.append(individuo)\n",
    "    #print(len(populacao))\n",
    "    numero_elitismo = int(elitismo * tamanho_populacao) # tranform n_elitism in number int for receive correct numbers\n",
    "    #print(numero_elitismo)\n",
    "    #print('Tamanho da população: ', len(populacao))\n",
    "    \n",
    "    #initialize generations\n",
    "    for i in range(numero_geracoes):\n",
    "        custos = [(funcao_avaliacao(individuo), individuo) for individuo in populacao]\n",
    "        evolucao.append(custos[0][0])\n",
    "        #print(evolucao)\n",
    "        #print(custos)\n",
    "        custos.sort()\n",
    "        #print(custos)\n",
    "        individuos_ordenados = [individuo for (custo, individuo) in custos]\n",
    "        #print(individuos_ordenados)\n",
    "        populacao = individuos_ordenados[0:numero_elitismo] # 0:2\n",
    "        #print(populacao\n",
    "    \n",
    "        #print('Tamanho da população: ', len(populacao))\n",
    "    \n",
    "        # initialize process of mutation and crossover\n",
    "        while len(populacao) < tamanho_populacao:\n",
    "            i1 = random.randint(0, numero_elitismo)\n",
    "            i2 = random.randint(0, numero_elitismo)\n",
    "            #print(i1, i2, individuos_ordenados[i1], individuos_ordenados[i2])\n",
    "            novo_individuo = crossover(dominio, individuos_ordenados[i1], individuos_ordenados[i2])\n",
    "            #print(novo_individuo)\n",
    "            mutacao_novo_individuo = mutacao(dominio, passo, novo_individuo, probabilidade_mutacao)\n",
    "            #print(novo_individuo)\n",
    "            #print(mutacao_novo_individuo)\n",
    "            #print()\n",
    "            populacao.append(mutacao_novo_individuo)\n",
    "\n",
    "        #print('Tamanho da população: ', len(populacao))\n",
    "        #print(custos)\n",
    "        print(f'Generation: {i+1} / {numero_geracoes}')\n",
    "        \n",
    "    # in the end plot evolution\n",
    "    plt.plot(evolucao)\n",
    "    plt.title('Evolution')\n",
    "    plt.xlabel('Generations')\n",
    "    plt.ylabel('Cost')\n",
    "    plt.savefig('resultado.png')\n",
    "    #print(evolucao)\n",
    "    return custos[0][1]"
   ]
  },
  {
   "cell_type": "code",
   "execution_count": 239,
   "metadata": {
    "scrolled": true
   },
   "outputs": [
    {
     "name": "stdout",
     "output_type": "stream",
     "text": [
      "Generation: 1 / 50\n",
      "Generation: 2 / 50\n",
      "Generation: 3 / 50\n",
      "Generation: 4 / 50\n",
      "Generation: 5 / 50\n",
      "Generation: 6 / 50\n",
      "Generation: 7 / 50\n",
      "Generation: 8 / 50\n",
      "Generation: 9 / 50\n",
      "Generation: 10 / 50\n",
      "Generation: 11 / 50\n",
      "Generation: 12 / 50\n",
      "Generation: 13 / 50\n",
      "Generation: 14 / 50\n",
      "Generation: 15 / 50\n",
      "Generation: 16 / 50\n",
      "Generation: 17 / 50\n",
      "Generation: 18 / 50\n",
      "Generation: 19 / 50\n",
      "Generation: 20 / 50\n",
      "Generation: 21 / 50\n",
      "Generation: 22 / 50\n",
      "Generation: 23 / 50\n",
      "Generation: 24 / 50\n",
      "Generation: 25 / 50\n",
      "Generation: 26 / 50\n",
      "Generation: 27 / 50\n",
      "Generation: 28 / 50\n",
      "Generation: 29 / 50\n",
      "Generation: 30 / 50\n",
      "Generation: 31 / 50\n",
      "Generation: 32 / 50\n",
      "Generation: 33 / 50\n",
      "Generation: 34 / 50\n",
      "Generation: 35 / 50\n",
      "Generation: 36 / 50\n",
      "Generation: 37 / 50\n",
      "Generation: 38 / 50\n",
      "Generation: 39 / 50\n",
      "Generation: 40 / 50\n",
      "Generation: 41 / 50\n",
      "Generation: 42 / 50\n",
      "Generation: 43 / 50\n",
      "Generation: 44 / 50\n",
      "Generation: 45 / 50\n",
      "Generation: 46 / 50\n",
      "Generation: 47 / 50\n",
      "Generation: 48 / 50\n",
      "Generation: 49 / 50\n",
      "Generation: 50 / 50\n"
     ]
    },
    {
     "data": {
      "image/png": "[encoded data removed]",
      "text/plain": [
       "<Figure size 640x480 with 1 Axes>"
      ]
     },
     "metadata": {},
     "output_type": "display_data"
    }
   ],
   "source": [
    "#test\n",
    "solucao = algoritmo_genetico(dominio, funcao_avaliacao,\n",
    "                             elitismo=0.2,\n",
    "                             tamanho_populacao=20,\n",
    "                             numero_geracoes=50, \n",
    "                             probabilidade_mutacao=0.05)"
   ]
  },
  {
   "cell_type": "code",
   "execution_count": 240,
   "metadata": {},
   "outputs": [
    {
     "name": "stdout",
     "output_type": "stream",
     "text": [
      "Solução: [4, 2, 4, 2, 2, 1, 5, 3, 3, 2, 5, 1]\n",
      "Custo total:  2752\n",
      "    Lisbon       LIS 12:18-14:56 U$172  9:31-11:43 U$210\n",
      "    Madrid       MAD 12:44-14:17 U$134  9:11-10:42 U$172\n",
      "     Paris       CDG  9:15-12:29 U$225  8:23-11:07 U$143\n",
      "    Dublin       DUB 13:40-15:37 U$138 10:33-12:03 U$ 74\n",
      "  Brussels       BRU 10:30-14:57 U$290  9:49-13:51 U$229\n",
      "    London       LHR 13:40-15:38 U$137  8:19-11:16 U$122\n",
      "Preço total:  2046\n"
     ]
    }
   ],
   "source": [
    "#Print calender with the best soluction\n",
    "print('Solução:', solucao)\n",
    "print('Custo total: ', funcao_avaliacao(solucao))\n",
    "imprime_calendario(solucao)"
   ]
  },
  {
   "cell_type": "code",
   "execution_count": null,
   "metadata": {},
   "outputs": [],
   "source": []
  }
 ],
 "metadata": {
  "kernelspec": {
   "display_name": "Python 3 (ipykernel)",
   "language": "python",
   "name": "python3"
  },
  "language_info": {
   "codemirror_mode": {
    "name": "ipython",
    "version": 3
   },
   "file_extension": ".py",
   "mimetype": "text/x-python",
   "name": "python",
   "nbconvert_exporter": "python",
   "pygments_lexer": "ipython3",
   "version": "3.10.10"
  },
  "vscode": {
   "interpreter": {
    "hash": "cc158412186e7bb1236ccfcdef3dc4519d4521bafbe0a1d234b31756f6c4e19a"
   }
  }
 },
 "nbformat": 4,
 "nbformat_minor": 2
}
