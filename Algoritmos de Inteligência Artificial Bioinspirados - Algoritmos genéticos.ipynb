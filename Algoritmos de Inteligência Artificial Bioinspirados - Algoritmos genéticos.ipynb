{
 "cells": [
  {
   "cell_type": "markdown",
   "metadata": {},
   "source": [
    "# Algoritmos de Inteligência Artificial Bioinspirados - Algoritmos genéticos"
   ]
  },
  {
   "cell_type": "markdown",
   "metadata": {},
   "source": [
    "# Representação do problema - calendários de voos"
   ]
  },
  {
   "cell_type": "code",
   "execution_count": 1,
   "metadata": {},
   "outputs": [],
   "source": [
    "# Libraries\n",
    "import time\n",
    "import sys\n",
    "import random\n",
    "import matplotlib.pyplot as plt"
   ]
  },
  {
   "cell_type": "markdown",
   "metadata": {},
   "source": [
    "#### Define name and abreviattion from countries"
   ]
  },
  {
   "cell_type": "code",
   "execution_count": 2,
   "metadata": {},
   "outputs": [],
   "source": [
    "pessoas = [('Lisbon', 'LIS'),\n",
    "           ('Madrid', 'MAD'),\n",
    "           ('Paris', 'CDG'),\n",
    "           ('Dublin', 'DUB'),\n",
    "           ('Brussels', 'BRU'),\n",
    "           ('London', 'LHR')]"
   ]
  },
  {
   "cell_type": "markdown",
   "metadata": {},
   "source": [
    "- Tests"
   ]
  },
  {
   "cell_type": "code",
   "execution_count": 3,
   "metadata": {},
   "outputs": [
    {
     "data": {
      "text/plain": [
       "('Dublin', 'DUB')"
      ]
     },
     "execution_count": 3,
     "metadata": {},
     "output_type": "execute_result"
    }
   ],
   "source": [
    "pessoas[3] #tuplas"
   ]
  },
  {
   "cell_type": "markdown",
   "metadata": {},
   "source": [
    "- Our destiny is find the best way, with smaller cost and time"
   ]
  },
  {
   "cell_type": "code",
   "execution_count": 4,
   "metadata": {},
   "outputs": [],
   "source": [
    "destino = 'FCO' # Roma is destiny"
   ]
  },
  {
   "cell_type": "code",
   "execution_count": 5,
   "metadata": {},
   "outputs": [
    {
     "data": {
      "text/plain": [
       "{('BRU', 'FCO'): ['15:44', '18:55', 382]}"
      ]
     },
     "execution_count": 5,
     "metadata": {},
     "output_type": "execute_result"
    }
   ],
   "source": [
    "voos = {('BRU', 'FCO'): ['15:44', '18:55', 382]} #tests\n",
    "voos"
   ]
  },
  {
   "cell_type": "markdown",
   "metadata": {},
   "source": [
    "- Recovery in archive (flights.txt) data from flights"
   ]
  },
  {
   "cell_type": "code",
   "execution_count": 6,
   "metadata": {},
   "outputs": [],
   "source": [
    "voos = {}\n",
    "for linha in open('flights.txt'): #open archive\n",
    "    #print(linha.split(','))\n",
    "    origem, destino, partida, chegada, preco = linha.split(',') # four variables\n",
    "    voos.setdefault((origem, destino), [])\n",
    "    voos[(origem, destino)].append((partida, chegada, int(preco)))"
   ]
  },
  {
   "cell_type": "code",
   "execution_count": 7,
   "metadata": {},
   "outputs": [
    {
     "data": {
      "text/plain": [
       "{('FCO', 'LIS'): [('6:19', '8:13', 239),\n",
       "  ('8:04', '10:59', 136),\n",
       "  ('9:31', '11:43', 210),\n",
       "  ('11:07', '13:24', 171),\n",
       "  ('12:31', '14:02', 234),\n",
       "  ('14:05', '15:47', 226),\n",
       "  ('15:07', '17:21', 129),\n",
       "  ('16:35', '18:56', 144),\n",
       "  ('18:25', '20:34', 205),\n",
       "  ('20:05', '21:44', 172)],\n",
       " ('LIS', 'FCO'): [('6:11', '8:31', 249),\n",
       "  ('7:39', '10:24', 219),\n",
       "  ('9:15', '12:03', 99),\n",
       "  ('11:08', '13:07', 175),\n",
       "  ('12:18', '14:56', 172),\n",
       "  ('13:37', '15:08', 250),\n",
       "  ('15:03', '16:42', 135),\n",
       "  ('16:51', '19:09', 147),\n",
       "  ('18:12', '20:17', 242),\n",
       "  ('20:05', '22:06', 261)],\n",
       " ('FCO', 'MAD'): [('6:03', '8:43', 219),\n",
       "  ('7:50', '10:08', 164),\n",
       "  ('9:11', '10:42', 172),\n",
       "  ('10:33', '13:11', 132),\n",
       "  ('12:08', '14:47', 231),\n",
       "  ('14:19', '17:09', 190),\n",
       "  ('15:04', '17:23', 189),\n",
       "  ('17:06', '20:00', 95),\n",
       "  ('18:33', '20:22', 143),\n",
       "  ('19:32', '21:25', 160)],\n",
       " ('MAD', 'FCO'): [('6:05', '8:32', 174),\n",
       "  ('8:25', '10:34', 157),\n",
       "  ('9:42', '11:32', 169),\n",
       "  ('11:01', '12:39', 260),\n",
       "  ('12:44', '14:17', 134),\n",
       "  ('14:22', '16:32', 126),\n",
       "  ('15:58', '18:40', 173),\n",
       "  ('16:43', '19:00', 246),\n",
       "  ('18:48', '21:45', 246),\n",
       "  ('19:50', '22:24', 269)],\n",
       " ('FCO', 'CDG'): [('6:33', '9:14', 172),\n",
       "  ('8:23', '11:07', 143),\n",
       "  ('9:25', '12:46', 295),\n",
       "  ('11:08', '14:38', 262),\n",
       "  ('12:37', '15:05', 170),\n",
       "  ('14:08', '16:09', 232),\n",
       "  ('15:23', '18:49', 150),\n",
       "  ('16:50', '19:26', 304),\n",
       "  ('18:07', '21:30', 355),\n",
       "  ('20:27', '23:42', 169)],\n",
       " ('CDG', 'FCO'): [('6:25', '9:30', 335),\n",
       "  ('7:34', '9:40', 324),\n",
       "  ('9:15', '12:29', 225),\n",
       "  ('11:28', '14:40', 248),\n",
       "  ('12:05', '15:30', 330),\n",
       "  ('14:01', '17:24', 338),\n",
       "  ('15:34', '18:11', 326),\n",
       "  ('17:07', '20:04', 291),\n",
       "  ('18:23', '21:35', 134),\n",
       "  ('19:53', '22:21', 173)],\n",
       " ('FCO', 'DUB'): [('6:39', '8:09', 86),\n",
       "  ('8:23', '10:28', 149),\n",
       "  ('9:58', '11:18', 130),\n",
       "  ('10:33', '12:03', 74),\n",
       "  ('12:08', '14:05', 142),\n",
       "  ('13:39', '15:30', 74),\n",
       "  ('15:25', '16:58', 62),\n",
       "  ('17:03', '18:03', 103),\n",
       "  ('18:24', '20:49', 124),\n",
       "  ('19:58', '21:23', 142)],\n",
       " ('DUB', 'FCO'): [('6:17', '8:26', 89),\n",
       "  ('8:04', '10:11', 95),\n",
       "  ('9:45', '11:50', 172),\n",
       "  ('11:16', '13:29', 83),\n",
       "  ('12:34', '15:02', 109),\n",
       "  ('13:40', '15:37', 138),\n",
       "  ('15:27', '17:18', 151),\n",
       "  ('17:11', '18:30', 108),\n",
       "  ('18:34', '19:36', 136),\n",
       "  ('20:17', '22:22', 102)],\n",
       " ('FCO', 'BRU'): [('6:09', '9:49', 414),\n",
       "  ('7:57', '11:15', 347),\n",
       "  ('9:49', '13:51', 229),\n",
       "  ('10:51', '14:16', 256),\n",
       "  ('12:20', '16:34', 500),\n",
       "  ('14:20', '17:32', 332),\n",
       "  ('15:49', '20:10', 497),\n",
       "  ('17:14', '20:59', 277),\n",
       "  ('18:44', '22:42', 351),\n",
       "  ('19:57', '23:15', 512)],\n",
       " ('BRU', 'FCO'): [('6:12', '10:22', 230),\n",
       "  ('7:53', '11:37', 433),\n",
       "  ('9:08', '12:12', 364),\n",
       "  ('10:30', '14:57', 290),\n",
       "  ('12:19', '15:25', 342),\n",
       "  ('13:54', '18:02', 294),\n",
       "  ('15:44', '18:55', 382),\n",
       "  ('16:52', '20:48', 448),\n",
       "  ('18:26', '21:29', 464),\n",
       "  ('20:07', '23:27', 473)],\n",
       " ('FCO', 'LHR'): [('6:58', '9:01', 238),\n",
       "  ('8:19', '11:16', 122),\n",
       "  ('9:58', '12:56', 249),\n",
       "  ('10:32', '13:16', 139),\n",
       "  ('12:01', '13:41', 267),\n",
       "  ('13:37', '15:33', 142),\n",
       "  ('15:50', '18:45', 243),\n",
       "  ('16:33', '18:15', 253),\n",
       "  ('18:17', '21:04', 259),\n",
       "  ('19:46', '21:45', 214)],\n",
       " ('LHR', 'FCO'): [('6:08', '8:06', 224),\n",
       "  ('8:27', '10:45', 139),\n",
       "  ('9:15', '12:14', 247),\n",
       "  ('10:53', '13:36', 189),\n",
       "  ('12:08', '14:59', 149),\n",
       "  ('13:40', '15:38', 137),\n",
       "  ('15:23', '17:25', 232),\n",
       "  ('17:08', '19:08', 262),\n",
       "  ('18:35', '20:28', 204),\n",
       "  ('20:30', '23:11', 114)]}"
      ]
     },
     "execution_count": 7,
     "metadata": {},
     "output_type": "execute_result"
    }
   ],
   "source": [
    "voos #visualize"
   ]
  },
  {
   "cell_type": "code",
   "execution_count": 8,
   "metadata": {},
   "outputs": [
    {
     "data": {
      "text/plain": [
       "[('6:19', '8:13', 239),\n",
       " ('8:04', '10:59', 136),\n",
       " ('9:31', '11:43', 210),\n",
       " ('11:07', '13:24', 171),\n",
       " ('12:31', '14:02', 234),\n",
       " ('14:05', '15:47', 226),\n",
       " ('15:07', '17:21', 129),\n",
       " ('16:35', '18:56', 144),\n",
       " ('18:25', '20:34', 205),\n",
       " ('20:05', '21:44', 172)]"
      ]
     },
     "execution_count": 8,
     "metadata": {},
     "output_type": "execute_result"
    }
   ],
   "source": [
    "voos[('FCO', 'LIS')] # tests with abreviattions"
   ]
  },
  {
   "cell_type": "code",
   "execution_count": 9,
   "metadata": {},
   "outputs": [],
   "source": [
    "#[1,4, 3,2, 7,3, 6,3, 2,4, 5,3]"
   ]
  },
  {
   "cell_type": "markdown",
   "metadata": {},
   "source": [
    "---------"
   ]
  },
  {
   "cell_type": "markdown",
   "metadata": {},
   "source": [
    "##### First funciton = show_calendar(), your hiperparams are: only calendar.\n",
    "- receive a list of numbers calling (calendar) and return a print of list of fligts with each hour and each country.\n",
    "- Examples: calendar = [1,4, 3,2, 7,3, 6,3, 2,4, 5,3]\n",
    "- index 0 = 1 i.e. flight 1 (going)\n",
    "- index 1 = 4 i.e. flight 2 (return)\n",
    "\n",
    "and like this in next"
   ]
  },
  {
   "cell_type": "code",
   "execution_count": 11,
   "metadata": {},
   "outputs": [],
   "source": [
    "# funct calendar\n",
    "def imprime_calendario(calendario):\n",
    "    voo_id = -1\n",
    "    preco_total = 0\n",
    "    \n",
    "    for i in range(len(calendario) // 2):\n",
    "        nome = pessoas[i][0]\n",
    "        #print(nome)\n",
    "        \n",
    "        origem = pessoas[i][1]\n",
    "        #print(origem)\n",
    "        \n",
    "        voo_id += 1\n",
    "        \n",
    "        voo_ida = voos[(origem, destino)][calendario[voo_id]]\n",
    "        #print(voo_ida)\n",
    "        \n",
    "        preco_total += voo_ida[2]\n",
    "        \n",
    "        voo_id += 1\n",
    "        \n",
    "        voo_volta = voos[(destino, origem)][calendario[voo_id]]\n",
    "        #print(voo_volta)\n",
    "        \n",
    "        preco_total += voo_volta[2]\n",
    "        \n",
    "        print('%10s%10s %5s-%5s U$%3s %5s-%5s U$%3s' % (nome, origem, voo_ida[0], voo_ida[1], voo_ida[2], \n",
    "                                                    voo_volta[0], voo_volta[1], voo_volta[2]))\n",
    "    print('Preço total: ', preco_total)"
   ]
  },
  {
   "cell_type": "markdown",
   "metadata": {},
   "source": [
    "##### Next function = get_minuts(), transform hour in minutes\n",
    "- Use time"
   ]
  },
  {
   "cell_type": "code",
   "execution_count": 12,
   "metadata": {},
   "outputs": [],
   "source": [
    "def get_minutos(hora):\n",
    "    t = time.strptime(hora, '%H:%M')\n",
    "    return t[3] * 60 + t[4]"
   ]
  },
  {
   "cell_type": "code",
   "execution_count": 13,
   "metadata": {},
   "outputs": [
    {
     "data": {
      "text/plain": [
       "(459, 470)"
      ]
     },
     "execution_count": 13,
     "metadata": {},
     "output_type": "execute_result"
    }
   ],
   "source": [
    "get_minutos('7:39'), get_minutos('7:50') #test"
   ]
  },
  {
   "cell_type": "markdown",
   "metadata": {},
   "source": [
    "##### Funcao_avaliacao() = fitness(), in this function inputs calendar and calculus of cost of price and cost of wait for each people\n",
    "- calendar = vector\n",
    "- return total_price plus total_wait"
   ]
  },
  {
   "cell_type": "code",
   "execution_count": 14,
   "metadata": {},
   "outputs": [],
   "source": [
    "def funcao_avaliacao(calendario):\n",
    "    preco_total = 0\n",
    "    ultima_chegada = 0 \n",
    "    primeira_partida = 1439\n",
    "    \n",
    "    voo_id = -1\n",
    "    \n",
    "    for i in range(len(calendario) // 2):\n",
    "        origem = pessoas[i][1]\n",
    "\n",
    "        voo_id += 1\n",
    "        voo_ida = voos[(origem, destino)][calendario[voo_id]]\n",
    "        voo_id +=1\n",
    "        voo_volta = voos[(destino, origem)][calendario[voo_id]]\n",
    "\n",
    "        preco_total += voo_ida[2]\n",
    "        preco_total += voo_volta[2]\n",
    "        \n",
    "        if ultima_chegada < get_minutos(voo_ida[1]):\n",
    "            ultima_chegada = get_minutos(voo_ida[1])\n",
    "        \n",
    "        if primeira_partida > get_minutos(voo_volta[0]):\n",
    "            primeira_partida = get_minutos(voo_volta[0])\n",
    "            \n",
    "    #print(ultima_chegada)\n",
    "    #print(primeira_partida)\n",
    "    #print(preco_total)\n",
    "    \n",
    "    espera_total = 0\n",
    "    voo_id =-1\n",
    "\n",
    "    for i in range(len(calendario) // 2):\n",
    "        origem = pessoas[i][1]\n",
    "        \n",
    "        voo_id += 1\n",
    "        voo_ida = voos[(origem, destino)][calendario[voo_id]]\n",
    "        \n",
    "        voo_id += 1\n",
    "        voo_volta = voos[(destino, origem)][calendario[voo_id]]\n",
    "        \n",
    "        espera_total += ultima_chegada - get_minutos(voo_ida[1])\n",
    "        espera_total += get_minutos(voo_volta[0]) - primeira_partida\n",
    "        \n",
    "    return espera_total + preco_total"
   ]
  },
  {
   "cell_type": "code",
   "execution_count": 15,
   "metadata": {},
   "outputs": [
    {
     "name": "stdout",
     "output_type": "stream",
     "text": [
      "    Lisbon       LIS  7:39-10:24 U$219 12:31-14:02 U$234\n",
      "    Madrid       MAD 11:01-12:39 U$260  9:11-10:42 U$172\n",
      "     Paris       CDG 17:07-20:04 U$291 11:08-14:38 U$262\n",
      "    Dublin       DUB 15:27-17:18 U$151 10:33-12:03 U$ 74\n",
      "  Brussels       BRU  9:08-12:12 U$364 12:20-16:34 U$500\n",
      "    London       LHR 13:40-15:38 U$137 10:32-13:16 U$139\n",
      "Preço total:  2803\n"
     ]
    }
   ],
   "source": [
    "# Tes with 1º function\n",
    "imprime_calendario([1,4, 3,2, 7,3, 6,3, 2,4, 5,3])"
   ]
  },
  {
   "cell_type": "code",
   "execution_count": 16,
   "metadata": {},
   "outputs": [
    {
     "data": {
      "text/plain": [
       "6096"
      ]
     },
     "execution_count": 16,
     "metadata": {},
     "output_type": "execute_result"
    }
   ],
   "source": [
    "# test fitness\n",
    "funcao_avaliacao([1,4, 3,1, 8,3, 6,3, 2,4, 5,3])"
   ]
  },
  {
   "cell_type": "code",
   "execution_count": 17,
   "metadata": {},
   "outputs": [
    {
     "data": {
      "text/plain": [
       "(1204, 551)"
      ]
     },
     "execution_count": 17,
     "metadata": {},
     "output_type": "execute_result"
    }
   ],
   "source": [
    "# test with function\n",
    "get_minutos('20:04'), get_minutos('9:11')"
   ]
  },
  {
   "cell_type": "code",
   "execution_count": 18,
   "metadata": {},
   "outputs": [
    {
     "data": {
      "text/plain": [
       "([(0, 9),\n",
       "  (0, 9),\n",
       "  (0, 9),\n",
       "  (0, 9),\n",
       "  (0, 9),\n",
       "  (0, 9),\n",
       "  (0, 9),\n",
       "  (0, 9),\n",
       "  (0, 9),\n",
       "  (0, 9),\n",
       "  (0, 9),\n",
       "  (0, 9)],\n",
       " 12)"
      ]
     },
     "execution_count": 18,
     "metadata": {},
     "output_type": "execute_result"
    }
   ],
   "source": [
    "# domin is a base for our calculus, for each flights\n",
    "dominio = [(0, 9)] * (len(pessoas) * 2)\n",
    "dominio, len(dominio)"
   ]
  },
  {
   "cell_type": "markdown",
   "metadata": {},
   "source": [
    "##### A famous function from genetic algorithm mutation\n",
    "- receive domin, passo = size of mutation, calendario = calendar, probabilidade_mutacao = proba_mutation\n",
    "- in this function, lets receive calendar and tranform in mutate if condition for true.\n",
    "- For this condiction, we have, random.random(), that to calculate a random number between 0, 1, type float\n",
    "- If this condiction is true, calender receive a mutation, with value of passo"
   ]
  },
  {
   "cell_type": "code",
   "execution_count": 19,
   "metadata": {},
   "outputs": [],
   "source": [
    "def mutacao(dominio, passo, calendario, probabilidade_mutacao):\n",
    "    gene = random.randint(0, len(dominio) - 1)\n",
    "    #print(gene)\n",
    "    mutante = calendario\n",
    "    if random.random() < probabilidade_mutacao: #prob\n",
    "        if calendario[gene] != dominio[gene][0]:\n",
    "            mutante = calendario[0:gene] + [calendario[gene] - passo] + calendario[gene + 1:]\n",
    "            #print(mutante)\n",
    "        else:\n",
    "            if calendario[gene] != dominio[gene][1]:\n",
    "                mutante = calendario[0:gene] + [calendario[gene] + passo] + calendario[gene + 1:]\n",
    "    return mutante"
   ]
  },
  {
   "cell_type": "code",
   "execution_count": 20,
   "metadata": {},
   "outputs": [
    {
     "data": {
      "text/plain": [
       "[1, 4, 3, 2, 7, 3, 6, 3, 2, 4, 5, 3]"
      ]
     },
     "execution_count": 20,
     "metadata": {},
     "output_type": "execute_result"
    }
   ],
   "source": [
    "#Test\n",
    "mutacao(dominio, 1, [1,4, 3,2, 7,3, 6,3, 2,4, 5,3], 0.05)"
   ]
  },
  {
   "cell_type": "markdown",
   "metadata": {},
   "source": [
    "##### Crossover function from GA\n",
    "- receive a two individues and domin\n",
    "- return one individuo mutate"
   ]
  },
  {
   "cell_type": "code",
   "execution_count": 21,
   "metadata": {},
   "outputs": [],
   "source": [
    "def crossover(dominio, individuo1, individuo2):\n",
    "    gene = random.randint(1, len(dominio) - 2)\n",
    "    #print(gene)\n",
    "    return individuo1[0:gene] + individuo2[gene:]"
   ]
  },
  {
   "cell_type": "code",
   "execution_count": 22,
   "metadata": {},
   "outputs": [
    {
     "data": {
      "text/plain": [
       "[1, 4, 3, 2, 8, 9, 2, 3, 5, 1, 0, 6]"
      ]
     },
     "execution_count": 22,
     "metadata": {},
     "output_type": "execute_result"
    }
   ],
   "source": [
    "#test with function\n",
    "s1 = [1,4, 3,2, 7,3, 6,3, 2,4, 5,3]\n",
    "s2 = [0,1, 2,5, 8,9, 2,3, 5,1, 0,6]\n",
    "crossover(dominio, s1, s2)"
   ]
  },
  {
   "cell_type": "markdown",
   "metadata": {},
   "source": [
    "- Start function, the principal function"
   ]
  },
  {
   "cell_type": "code",
   "execution_count": 29,
   "metadata": {},
   "outputs": [],
   "source": [
    "def algoritmo_genetico(dominio, funcao_avaliacao, tamanho_populacao = 100, passo = 1,\n",
    "                       elitismo = 0.2, numero_geracoes = 500, probabilidade_mutacao = 0.05):\n",
    "    populacao = [] #initialize population\n",
    "    evolucao = [] # initialize evolution of cost\n",
    "    \n",
    "    for i in range(tamanho_populacao): # call random_population function for each tam_pop\n",
    "        individuo = [random.randint(dominio[i][0], dominio[i][1]) for i in range(len(dominio))]\n",
    "        populacao.append(individuo)\n",
    "    #print(len(populacao))\n",
    "    numero_elitismo = int(elitismo * tamanho_populacao) # tranform n_elitism in number int for receive correct numbers\n",
    "    #print(numero_elitismo)\n",
    "    #print('Tamanho da população: ', len(populacao))\n",
    "    \n",
    "    #initialize generations\n",
    "    for i in range(numero_geracoes):\n",
    "        custos = [(funcao_avaliacao(individuo), individuo) for individuo in populacao]\n",
    "        evolucao.append(custos[0][0])\n",
    "        #print(evolucao)\n",
    "        #print(custos)\n",
    "        custos.sort()\n",
    "        #print(custos)\n",
    "        individuos_ordenados = [individuo for (custo, individuo) in custos]\n",
    "        #print(individuos_ordenados)\n",
    "        populacao = individuos_ordenados[0:numero_elitismo] # 0:2\n",
    "        #print(populacao\n",
    "    \n",
    "        #print('Tamanho da população: ', len(populacao))\n",
    "    \n",
    "        # initialize process of mutation and crossover\n",
    "        while len(populacao) < tamanho_populacao:\n",
    "            i1 = random.randint(0, numero_elitismo)\n",
    "            i2 = random.randint(0, numero_elitismo)\n",
    "            #print(i1, i2, individuos_ordenados[i1], individuos_ordenados[i2])\n",
    "            novo_individuo = crossover(dominio, individuos_ordenados[i1], individuos_ordenados[i2])\n",
    "            #print(novo_individuo)\n",
    "            mutacao_novo_individuo = mutacao(dominio, passo, novo_individuo, probabilidade_mutacao)\n",
    "            #print(novo_individuo)\n",
    "            #print(mutacao_novo_individuo)\n",
    "            #print()\n",
    "            populacao.append(mutacao_novo_individuo)\n",
    "\n",
    "        #print('Tamanho da população: ', len(populacao))\n",
    "        #print(custos)\n",
    "        print(f'Generation: {i+1} / {numero_geracoes}')\n",
    "        \n",
    "    # in the end plot evolution\n",
    "    plt.plot(evolucao)\n",
    "    plt.title('Evolution')\n",
    "    plt.xlabel('Generations')\n",
    "    plt.ylabel('Cost')\n",
    "    plt.savefig('resultado.png')\n",
    "    #print(evolucao)\n",
    "    return custos[0][1]"
   ]
  },
  {
   "cell_type": "code",
   "execution_count": 33,
   "metadata": {
    "scrolled": true
   },
   "outputs": [
    {
     "name": "stdout",
     "output_type": "stream",
     "text": [
      "Generation: 1 / 150\n",
      "Generation: 2 / 150\n",
      "Generation: 3 / 150\n",
      "Generation: 4 / 150\n",
      "Generation: 5 / 150\n",
      "Generation: 6 / 150\n",
      "Generation: 7 / 150\n",
      "Generation: 8 / 150\n",
      "Generation: 9 / 150\n",
      "Generation: 10 / 150\n",
      "Generation: 11 / 150\n",
      "Generation: 12 / 150\n",
      "Generation: 13 / 150\n",
      "Generation: 14 / 150\n",
      "Generation: 15 / 150\n",
      "Generation: 16 / 150\n",
      "Generation: 17 / 150\n",
      "Generation: 18 / 150\n",
      "Generation: 19 / 150\n",
      "Generation: 20 / 150\n",
      "Generation: 21 / 150\n",
      "Generation: 22 / 150\n",
      "Generation: 23 / 150\n",
      "Generation: 24 / 150\n",
      "Generation: 25 / 150\n",
      "Generation: 26 / 150\n",
      "Generation: 27 / 150\n",
      "Generation: 28 / 150\n",
      "Generation: 29 / 150\n",
      "Generation: 30 / 150\n",
      "Generation: 31 / 150\n",
      "Generation: 32 / 150\n",
      "Generation: 33 / 150\n",
      "Generation: 34 / 150\n",
      "Generation: 35 / 150\n",
      "Generation: 36 / 150\n",
      "Generation: 37 / 150\n",
      "Generation: 38 / 150\n",
      "Generation: 39 / 150\n",
      "Generation: 40 / 150\n",
      "Generation: 41 / 150\n",
      "Generation: 42 / 150\n",
      "Generation: 43 / 150\n",
      "Generation: 44 / 150\n",
      "Generation: 45 / 150\n",
      "Generation: 46 / 150\n",
      "Generation: 47 / 150\n",
      "Generation: 48 / 150\n",
      "Generation: 49 / 150\n",
      "Generation: 50 / 150\n",
      "Generation: 51 / 150\n",
      "Generation: 52 / 150\n",
      "Generation: 53 / 150\n",
      "Generation: 54 / 150\n",
      "Generation: 55 / 150\n",
      "Generation: 56 / 150\n",
      "Generation: 57 / 150\n",
      "Generation: 58 / 150\n",
      "Generation: 59 / 150\n",
      "Generation: 60 / 150\n",
      "Generation: 61 / 150\n",
      "Generation: 62 / 150\n",
      "Generation: 63 / 150\n",
      "Generation: 64 / 150\n",
      "Generation: 65 / 150\n",
      "Generation: 66 / 150\n",
      "Generation: 67 / 150\n",
      "Generation: 68 / 150\n",
      "Generation: 69 / 150\n",
      "Generation: 70 / 150\n",
      "Generation: 71 / 150\n",
      "Generation: 72 / 150\n",
      "Generation: 73 / 150\n",
      "Generation: 74 / 150\n",
      "Generation: 75 / 150\n",
      "Generation: 76 / 150\n",
      "Generation: 77 / 150\n",
      "Generation: 78 / 150\n",
      "Generation: 79 / 150\n",
      "Generation: 80 / 150\n",
      "Generation: 81 / 150\n",
      "Generation: 82 / 150\n",
      "Generation: 83 / 150\n",
      "Generation: 84 / 150\n",
      "Generation: 85 / 150\n",
      "Generation: 86 / 150\n",
      "Generation: 87 / 150\n",
      "Generation: 88 / 150\n",
      "Generation: 89 / 150\n",
      "Generation: 90 / 150\n",
      "Generation: 91 / 150\n",
      "Generation: 92 / 150\n",
      "Generation: 93 / 150\n",
      "Generation: 94 / 150\n",
      "Generation: 95 / 150\n",
      "Generation: 96 / 150\n",
      "Generation: 97 / 150\n",
      "Generation: 98 / 150\n",
      "Generation: 99 / 150\n",
      "Generation: 100 / 150\n",
      "Generation: 101 / 150\n",
      "Generation: 102 / 150\n",
      "Generation: 103 / 150\n",
      "Generation: 104 / 150\n",
      "Generation: 105 / 150\n",
      "Generation: 106 / 150\n",
      "Generation: 107 / 150\n",
      "Generation: 108 / 150\n",
      "Generation: 109 / 150\n",
      "Generation: 110 / 150\n",
      "Generation: 111 / 150\n",
      "Generation: 112 / 150\n",
      "Generation: 113 / 150\n",
      "Generation: 114 / 150\n",
      "Generation: 115 / 150\n",
      "Generation: 116 / 150\n",
      "Generation: 117 / 150\n",
      "Generation: 118 / 150\n",
      "Generation: 119 / 150\n",
      "Generation: 120 / 150\n",
      "Generation: 121 / 150\n",
      "Generation: 122 / 150\n",
      "Generation: 123 / 150\n",
      "Generation: 124 / 150\n",
      "Generation: 125 / 150\n",
      "Generation: 126 / 150\n",
      "Generation: 127 / 150\n",
      "Generation: 128 / 150\n",
      "Generation: 129 / 150\n",
      "Generation: 130 / 150\n",
      "Generation: 131 / 150\n",
      "Generation: 132 / 150\n",
      "Generation: 133 / 150\n",
      "Generation: 134 / 150\n",
      "Generation: 135 / 150\n",
      "Generation: 136 / 150\n",
      "Generation: 137 / 150\n",
      "Generation: 138 / 150\n",
      "Generation: 139 / 150\n",
      "Generation: 140 / 150\n",
      "Generation: 141 / 150\n",
      "Generation: 142 / 150\n",
      "Generation: 143 / 150\n",
      "Generation: 144 / 150\n",
      "Generation: 145 / 150\n",
      "Generation: 146 / 150\n",
      "Generation: 147 / 150\n",
      "Generation: 148 / 150\n",
      "Generation: 149 / 150\n",
      "Generation: 150 / 150\n"
     ]
    },
    {
     "data": {
      "image/png": "[encoded data removed]",
      "text/plain": [
       "<Figure size 640x480 with 1 Axes>"
      ]
     },
     "metadata": {},
     "output_type": "display_data"
    }
   ],
   "source": [
    "#test\n",
    "solucao = algoritmo_genetico(dominio, funcao_avaliacao,\n",
    "                             elitismo=0.2,\n",
    "                             tamanho_populacao=100,\n",
    "                             numero_geracoes=150, \n",
    "                             probabilidade_mutacao=0.05)"
   ]
  },
  {
   "cell_type": "code",
   "execution_count": 34,
   "metadata": {},
   "outputs": [
    {
     "name": "stdout",
     "output_type": "stream",
     "text": [
      "Solução: [6, 2, 5, 3, 5, 2, 6, 3, 3, 2, 5, 5]\n",
      "Custo total:  3030\n",
      "    Lisbon       LIS 15:03-16:42 U$135  9:31-11:43 U$210\n",
      "    Madrid       MAD 14:22-16:32 U$126 10:33-13:11 U$132\n",
      "     Paris       CDG 14:01-17:24 U$338  9:25-12:46 U$295\n",
      "    Dublin       DUB 15:27-17:18 U$151 10:33-12:03 U$ 74\n",
      "  Brussels       BRU 10:30-14:57 U$290  9:49-13:51 U$229\n",
      "    London       LHR 13:40-15:38 U$137 13:37-15:33 U$142\n",
      "Preço total:  2259\n"
     ]
    }
   ],
   "source": [
    "#Print calender with the best soluction\n",
    "print('Solução:', solucao)\n",
    "print('Custo total: ', funcao_avaliacao(solucao))\n",
    "imprime_calendario(solucao)"
   ]
  },
  {
   "cell_type": "code",
   "execution_count": null,
   "metadata": {},
   "outputs": [],
   "source": []
  }
 ],
 "metadata": {
  "kernelspec": {
   "display_name": "Python 3 (ipykernel)",
   "language": "python",
   "name": "python3"
  },
  "language_info": {
   "codemirror_mode": {
    "name": "ipython",
    "version": 3
   },
   "file_extension": ".py",
   "mimetype": "text/x-python",
   "name": "python",
   "nbconvert_exporter": "python",
   "pygments_lexer": "ipython3",
   "version": "3.9.7"
  },
  "vscode": {
   "interpreter": {
    "hash": "cc158412186e7bb1236ccfcdef3dc4519d4521bafbe0a1d234b31756f6c4e19a"
   }
  }
 },
 "nbformat": 4,
 "nbformat_minor": 2
}
